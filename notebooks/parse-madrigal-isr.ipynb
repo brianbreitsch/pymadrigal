{
 "cells": [
  {
   "cell_type": "code",
   "execution_count": null,
   "metadata": {
    "collapsed": true
   },
   "outputs": [],
   "source": [
    "import h5py"
   ]
  },
  {
   "cell_type": "code",
   "execution_count": null,
   "metadata": {
    "collapsed": true
   },
   "outputs": [],
   "source": [
    "f = h5py.File('/home/breitsbw/data/isr/jro20020318_drifts.001', 'r')\n",
    "\n",
    "metadata = f['Metadata']\n",
    "table = f['Data']['Table Layout']\n",
    "data_parameters = metadata['Data Parameters']\n",
    "experiment_notes = metadata['Experiment Notes']\n",
    "\n",
    "column_names = [column[0].decode('utf-8') for column in data_parameters.value]\n",
    "print(column_names)\n",
    "data = {}\n",
    "N = len(table)\n",
    "# collect column names\n",
    "for column_name in column_names:\n",
    "    data[column_name] = zeros((N,))\n",
    "# put data into table\n",
    "for i, row in enumerate(table):\n",
    "    for j, column_name in enumerate(column_names):\n",
    "        data[column_name][i] = row[j]\n",
    "f.close()"
   ]
  },
  {
   "cell_type": "markdown",
   "metadata": {},
   "source": [
    "```python\n",
    "f = h5py.File('../data/isr/jro20020318_drifts.001', 'r')\n",
    "\n",
    "metadata = f['Metadata']\n",
    "table = f['Data']['Table Layout']\n",
    "data_parameters = metadata['Data Parameters']\n",
    "experiment_notes = metadata['Experiment Notes']\n",
    "\n",
    "column_names = [column[0].decode('utf-8') for column in data_parameters.value]\n",
    "print(column_names)\n",
    "data = {}\n",
    "N = len(table)\n",
    "# collect column names\n",
    "for column_name in column_names:\n",
    "    data[column_name] = zeros((N,))\n",
    "# put data into table\n",
    "for i, row in enumerate(table):\n",
    "    for j, column_name in enumerate(column_names):\n",
    "        data[column_name][i] = row[j]\n",
    "f.close()\n",
    "```"
   ]
  },
  {
   "cell_type": "code",
   "execution_count": null,
   "metadata": {
    "collapsed": true
   },
   "outputs": [],
   "source": []
  }
 ],
 "metadata": {
  "kernelspec": {
   "display_name": "Python 3",
   "language": "python",
   "name": "python3"
  },
  "language_info": {
   "codemirror_mode": {
    "name": "ipython",
    "version": 3
   },
   "file_extension": ".py",
   "mimetype": "text/x-python",
   "name": "python",
   "nbconvert_exporter": "python",
   "pygments_lexer": "ipython3",
   "version": "3.4.3"
  }
 },
 "nbformat": 4,
 "nbformat_minor": 0
}
