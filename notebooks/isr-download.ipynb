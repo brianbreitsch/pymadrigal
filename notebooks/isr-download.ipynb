{
 "cells": [
  {
   "cell_type": "code",
   "execution_count": 8,
   "metadata": {
    "collapsed": false
   },
   "outputs": [],
   "source": []
  },
  {
   "cell_type": "markdown",
   "metadata": {},
   "source": [
    ".\n",
    "\n",
    ".\n",
    "\n",
    ".\n",
    "\n",
    "."
   ]
  },
  {
   "cell_type": "markdown",
   "metadata": {},
   "source": [
    "```python\n",
    "command = 'globalDownload.py --url=<Madrigal url> --outputDir=<output directory> \\ --user_fullname=<user fullname> --user_email=<user email> \\ --user_affiliation=<user affiliation> --format=<ascii,hdf5>'\n",
    "```"
   ]
  },
  {
   "cell_type": "code",
   "execution_count": 1,
   "metadata": {
    "collapsed": false
   },
   "outputs": [],
   "source": [
    "import datetime\n",
    "from os.path import basename\n",
    "from madrigalWeb.madrigalWeb import MadrigalData, MadrigalExperiment"
   ]
  },
  {
   "cell_type": "code",
   "execution_count": 2,
   "metadata": {
    "collapsed": true
   },
   "outputs": [],
   "source": [
    "MADRIGAL_URL = 'http://jro-db.igp.gob.pe/madrigal'\n",
    "USER_FULLNAME = 'Brian Breitsch'\n",
    "USER_EMAIL = 'brianbreitsch@gmail.com'\n",
    "USER_AFFILIATION = 'CSU'\n",
    "JICIMARCA_ISR = 10\n",
    "DRIFTS = 1910\n",
    "AVG_DRIFTS = 1911"
   ]
  },
  {
   "cell_type": "code",
   "execution_count": 3,
   "metadata": {
    "collapsed": true
   },
   "outputs": [],
   "source": [
    "data = MadrigalData(MADRIGAL_URL)"
   ]
  },
  {
   "cell_type": "code",
   "execution_count": 8,
   "metadata": {
    "collapsed": true
   },
   "outputs": [],
   "source": [
    "# experiments = data.getExperiments(JICIMARCA_ISR,\n",
    "#                                       2002, 1, 1, 0, 0, 0,\n",
    "#                                       2015, 7, 22, 0, 0, 0)\n",
    "experiments = data.getExperiments(JICIMARCA_ISR,\n",
    "                                      2015, 7, 1, 0, 0, 0,\n",
    "                                      2015, 7, 25, 0, 0, 0)"
   ]
  },
  {
   "cell_type": "code",
   "execution_count": 9,
   "metadata": {
    "collapsed": false
   },
   "outputs": [
    {
     "name": "stdout",
     "output_type": "stream",
     "text": [
      "1\n",
      "1\n",
      "1\n",
      "1\n",
      "1\n",
      "1\n",
      "1\n",
      "1\n"
     ]
    }
   ],
   "source": [
    "for ex in experiments:\n",
    "    files = data.getExperimentFiles(ex.id)\n",
    "    for f in files:\n",
    "        if f.kindat == DRIFTS or f.kindat == AVG_DRIFTS:\n",
    "            data.downloadFile(f.name, '/Users/brocktane/data/madrigal/isr/' + basename(f.name), \n",
    "                              USER_FULLNAME, USER_EMAIL, USER_AFFILIATION, 'hdf5')"
   ]
  },
  {
   "cell_type": "code",
   "execution_count": null,
   "metadata": {
    "collapsed": true
   },
   "outputs": [],
   "source": []
  }
 ],
 "metadata": {
  "kernelspec": {
   "display_name": "Python 2",
   "language": "python",
   "name": "python2"
  },
  "language_info": {
   "codemirror_mode": {
    "name": "ipython",
    "version": 2
   },
   "file_extension": ".py",
   "mimetype": "text/x-python",
   "name": "python",
   "nbconvert_exporter": "python",
   "pygments_lexer": "ipython2",
   "version": "2.7.9"
  }
 },
 "nbformat": 4,
 "nbformat_minor": 0
}
